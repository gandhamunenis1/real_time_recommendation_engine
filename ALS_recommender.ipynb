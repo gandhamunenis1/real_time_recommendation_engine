
# Databricks / Jupyter Notebook - ALS Recommender (PySpark)

from pyspark.ml.recommendation import ALS
from pyspark.sql import SparkSession
from pyspark.sql.functions import col

spark = SparkSession.builder.appName("ALSModel").getOrCreate()

# Load prepared data
data = spark.read.json("data/processed/clicks.json")

# Create interaction matrix
interactions = data.select("user_id", "product_id").withColumn("rating", col("event_type").isNotNull().cast("int"))

# Train ALS model
als = ALS(userCol="user_id", itemCol="product_id", ratingCol="rating", coldStartStrategy="drop")
model = als.fit(interactions)

# Generate top-5 recommendations per user
userRecs = model.recommendForAllUsers(5)
userRecs.show()
